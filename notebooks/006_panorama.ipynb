{
 "cells": [
  {
   "cell_type": "code",
   "execution_count": 2,
   "metadata": {
    "collapsed": true
   },
   "outputs": [],
   "source": [
    "import cv2\n",
    "import numpy as np"
   ]
  },
  {
   "cell_type": "code",
   "execution_count": 3,
   "metadata": {},
   "outputs": [
    {
     "name": "stdout",
     "output_type": "stream",
     "text": [
      "Image shapes:\n",
      "\tImage 0 (2304, 4096, 3)\n",
      "\tImage 1 (2304, 4096, 3)\n"
     ]
    }
   ],
   "source": [
    "# ---------------------------------------- #\n",
    "#         Load Images for Panorama         #\n",
    "# ---------------------------------------- #\n",
    "\n",
    "images = []\n",
    "images.append(cv2.imread('data/panorama/0.jpg', cv2.IMREAD_COLOR))\n",
    "images.append(cv2.imread('data/panorama/1.jpg', cv2.IMREAD_COLOR))\n",
    "\n",
    "print('Image shapes:')\n",
    "for i, img in enumerate(images):\n",
    "    print('\\tImage', i, img.shape)"
   ]
  },
  {
   "cell_type": "code",
   "execution_count": null,
   "metadata": {},
   "outputs": [],
   "source": [
    "# ---------------------------------------- #\n",
    "#         Create Panorama Sticher          #\n",
    "# ---------------------------------------- #\n",
    "\"\"\"\n",
    "cv2.createStitcher builds an instance of the panorama stitching algorithm. To apply it\n",
    "to the panorama creation, you need to call its stitch method. This method accepts an array\n",
    "of images to combine, and returns a stitching result status as well as a panorama image. The\n",
    "status may have one of the following values:\n",
    "    cv2.STITCHER_OK\n",
    "    cv2.STITCHER_ERR_NEED_MORE_IMGS\n",
    "    cv2.STITCHER_ERR_HOMOGRAPHY_EST_FAIL\n",
    "    cv2.STITCHER_ERR_CAMERA_PARAMS_ADJUST_FAIL\n",
    "\"\"\"\n",
    "\n",
    "frames = [cv2.resize(img, None, fx=0.25, fy=0.25) for img in images]\n",
    "\n",
    "stitcher = cv2.createStitcher()\n",
    "ret, pano = stitcher.stitch(frames)\n",
    "\n",
    "if ret == cv2.STITCHER_OK:\n",
    "    cv2.imshow('panorama', pano)\n",
    "    cv2.waitKey()\n",
    "    cv2.destroyAllWindows()\n",
    "else:\n",
    "    print('Error during stitching.')\n",
    "    "
   ]
  },
  {
   "cell_type": "code",
   "execution_count": null,
   "metadata": {
    "collapsed": true
   },
   "outputs": [],
   "source": []
  }
 ],
 "metadata": {
  "anaconda-cloud": {},
  "kernelspec": {
   "display_name": "Python [conda env:Anaconda3]",
   "language": "python",
   "name": "conda-env-Anaconda3-py"
  },
  "language_info": {
   "codemirror_mode": {
    "name": "ipython",
    "version": 3
   },
   "file_extension": ".py",
   "mimetype": "text/x-python",
   "name": "python",
   "nbconvert_exporter": "python",
   "pygments_lexer": "ipython3",
   "version": "3.5.5"
  }
 },
 "nbformat": 4,
 "nbformat_minor": 2
}
